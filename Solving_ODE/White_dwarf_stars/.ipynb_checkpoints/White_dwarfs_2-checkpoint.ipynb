{
 "cells": [
  {
   "cell_type": "markdown",
   "id": "423770d7-a478-4df6-a0ad-5f5c4752e92a",
   "metadata": {},
   "source": [
    "![](./b1.PNG)\n",
    "![](./b2.PNG)"
   ]
  },
  {
   "cell_type": "code",
   "execution_count": 1,
   "id": "540217ec-2014-47a3-aef2-915e4bc112c2",
   "metadata": {},
   "outputs": [],
   "source": [
    "import numpy as np\n",
    "import matplotlib.pyplot as plt\n",
    "from scipy.integrate import trapezoid"
   ]
  },
  {
   "cell_type": "code",
   "execution_count": 2,
   "id": "95af0caa-ce62-4b90-bdbe-8aed7ae985b8",
   "metadata": {},
   "outputs": [],
   "source": [
    "def E_V(rho):\n",
    "    x = (rho)**(1/3)\n",
    "    return (x*(1+2*x**2)*np.sqrt(1+x**2) - np.log(x+np.sqrt(1+x**2)))"
   ]
  },
  {
   "cell_type": "code",
   "execution_count": 3,
   "id": "bfc6d5b1-63f4-48a3-887f-41c9cc6e0795",
   "metadata": {},
   "outputs": [],
   "source": [
    "def deriv(r, y):\n",
    "    '''\n",
    "    Equilibrium equation for white dwarfs\n",
    "    '''\n",
    "    rho, m = y\n",
    "    gamma = get_gamma(rho)\n",
    "    if gamma >= 0:\n",
    "        return np.array([-m*rho/(gamma * r**2), rho*r**2])\n",
    "    else:\n",
    "        return 0"
   ]
  },
  {
   "cell_type": "code",
   "execution_count": 4,
   "id": "1c5894e4-f13b-46d2-b513-f3a496b0cd25",
   "metadata": {},
   "outputs": [],
   "source": [
    "def get_gamma(rho):\n",
    "    '''\n",
    "    Equation for the pressure\n",
    "    '''\n",
    "    if rho >= 0:\n",
    "        x = (rho)**(1/3)\n",
    "        gamma = x**2/(3*np.sqrt(1 + x**2))\n",
    "    else:\n",
    "        gamma = -1\n",
    "    return gamma"
   ]
  },
  {
   "cell_type": "code",
   "execution_count": 5,
   "id": "33fd691a-3f03-4c9c-93ad-c34f865d4fbf",
   "metadata": {},
   "outputs": [],
   "source": [
    "def rk4(t, deriv, y, dt, **kwargs):\n",
    "    for i in range(len(t)-1):\n",
    "        k1 = deriv(t[i], y[i][:], **kwargs) * dt\n",
    "        k2 = deriv(t[i] + dt/2, y[i][:] + k1/2, **kwargs) * dt\n",
    "        k3 = deriv(t[i] + dt/2, y[i][:] + k2/2,  **kwargs) * dt\n",
    "        k4 = deriv( t[i], y[i][:] + k3, **kwargs) * dt\n",
    "        y[i+1][:] = y[i][:] + (k1 + 2*k2 + 2*k3 + k4)/6\n",
    "    #return y"
   ]
  },
  {
   "cell_type": "code",
   "execution_count": 28,
   "id": "24f7b3a0-5545-44d7-93cc-da133734aad0",
   "metadata": {},
   "outputs": [],
   "source": [
    "# Sets rho_c and the # of electrons per nucleon Y_e\n",
    "rho_c = 1000\n",
    "Y_e = 1\n",
    "# Constats to set the dimensions into grams and centimeters\n",
    "R0 = 7.72e8 * Y_e\n",
    "M0 = 5.67e33 * Y_e**2\n",
    "rho_0 = 9.79e5 * 1/Y_e\n",
    "n0 = 5.89e29\n",
    "# Mass of the electron\n",
    "m_e = 9*10**(-34)\n",
    "# Light' speed\n",
    "c = 3e9\n",
    "# Universal gravitational constant\n",
    "G = 6.67*10**(-14)\n",
    "\n",
    "r0 = 0.01\n",
    "rf = 3\n",
    "dr = 0.001\n",
    "N = int((rf - r0)/dr)\n",
    "\n",
    "rho = np.zeros([N])\n",
    "m = np.zeros([N])\n",
    "y = np.zeros([N,2])\n",
    "\n",
    "\n",
    "# The density at r=0 is rho_c, parametrized in input and the mass at r=0 is zero\n",
    "y[0][0] = rho_c\n",
    "\n",
    "\n",
    "r = np.linspace(r0, rf, N)"
   ]
  },
  {
   "cell_type": "code",
   "execution_count": 29,
   "id": "2eeb2eb2-ba3b-4ddb-8782-bab40d62eacb",
   "metadata": {},
   "outputs": [],
   "source": [
    "rk4(r, deriv, y, dr)"
   ]
  },
  {
   "cell_type": "code",
   "execution_count": 30,
   "id": "a743994b-5905-41d3-8f11-4678baf6d799",
   "metadata": {},
   "outputs": [
    {
     "data": {
      "text/plain": [
       "array([[ 1.00000000e+03,  0.00000000e+00],\n",
       "       [ 9.99848785e+02,  1.06828309e-04],\n",
       "       [ 9.99446699e+02,  2.35294238e-04],\n",
       "       ...,\n",
       "       [-8.79090271e-05,  1.93581979e+00],\n",
       "       [-8.79090271e-05,  1.93581979e+00],\n",
       "       [-8.79090271e-05,  1.93581979e+00]])"
      ]
     },
     "execution_count": 30,
     "metadata": {},
     "output_type": "execute_result"
    }
   ],
   "source": [
    "y"
   ]
  },
  {
   "cell_type": "code",
   "execution_count": 31,
   "id": "fa51b4dd-4011-4281-8d95-bc17250ae493",
   "metadata": {},
   "outputs": [],
   "source": [
    "rho = np.transpose(y)[0]"
   ]
  },
  {
   "cell_type": "code",
   "execution_count": 32,
   "id": "86e7ed8f-09d0-4895-b282-0ecb9c3bee33",
   "metadata": {},
   "outputs": [
    {
     "data": {
      "text/plain": [
       "array([ 1.00000000e+03,  9.99848785e+02,  9.99446699e+02, ...,\n",
       "       -8.79090271e-05, -8.79090271e-05, -8.79090271e-05])"
      ]
     },
     "execution_count": 32,
     "metadata": {},
     "output_type": "execute_result"
    }
   ],
   "source": [
    "rho"
   ]
  },
  {
   "cell_type": "code",
   "execution_count": 33,
   "id": "4281d277-3562-431a-bdda-cfa0b14e7f59",
   "metadata": {},
   "outputs": [],
   "source": [
    "#rho[rho>=0]"
   ]
  },
  {
   "cell_type": "code",
   "execution_count": 34,
   "id": "4109f6b3-00fa-4be9-82c7-d121a91a9c61",
   "metadata": {},
   "outputs": [],
   "source": [
    "#E_V = E_V(rho[rho>=0])"
   ]
  },
  {
   "cell_type": "markdown",
   "id": "d1700337-f41f-42be-a2df-f4d8c662514c",
   "metadata": {},
   "source": [
    "To find when the array changes signs we look the positon in which the sign product between subsequent entries becomes negative."
   ]
  },
  {
   "cell_type": "code",
   "execution_count": 35,
   "id": "d4281b5a-2b92-4093-83da-0f2c6904963e",
   "metadata": {},
   "outputs": [],
   "source": [
    "#trapezoid(E_V*r[0:522]**2, r[0:522], dx = dr)"
   ]
  },
  {
   "cell_type": "code",
   "execution_count": 36,
   "id": "d9ca8447-0eb5-4d35-bb12-8ea892c73dc2",
   "metadata": {},
   "outputs": [],
   "source": [
    "# Vary rho_c\n",
    "rho_c_list = np.arange(100, 1300, 100)\n",
    "U0 = 3*np.pi*n0*m_e*c**2/(2*R0**2)\n",
    "W0 = 4*np.pi*M0*rho_0*G\n",
    "U = []\n",
    "W = []\n",
    "for rho_c in rho_c_list:\n",
    "    y[0][0] = rho_c\n",
    "    rk4(r, deriv, y, dr)\n",
    "    rho = np.transpose(y)[0]\n",
    "    m = np.transpose(y)[1]\n",
    "    EV = E_V(rho[rho>=0])\n",
    "    signs = np.sign(rho)\n",
    "    sign_changes = signs[:-1] * signs[1:] < 0\n",
    "    index = int(np.where(sign_changes)[0])\n",
    "    U.append(trapezoid(EV*r[0:index+1]**2, r[0:index+1], dx = dr))\n",
    "    W.append(-trapezoid(m[0:index+1]*rho[0:index+1]*r[0:index+1], r[0:index+1], dx = dr))"
   ]
  },
  {
   "cell_type": "code",
   "execution_count": 24,
   "id": "9c983917-2c42-4a53-865a-e9b120f0ad6e",
   "metadata": {},
   "outputs": [
    {
     "data": {
      "text/plain": [
       "[11.159159060440116,\n",
       " 14.035689453622263,\n",
       " 16.05284319394201,\n",
       " 17.660410663882654,\n",
       " 19.01980329530297,\n",
       " 20.20978042874266,\n",
       " 21.27540331832675,\n",
       " 22.245158811047947,\n",
       " 23.13833519009184,\n",
       " 23.968671658382984,\n",
       " 24.746343194159433,\n",
       " 25.47911785217592]"
      ]
     },
     "execution_count": 24,
     "metadata": {},
     "output_type": "execute_result"
    }
   ],
   "source": [
    "U"
   ]
  },
  {
   "cell_type": "code",
   "execution_count": 25,
   "id": "8c4cff69-202d-447c-bb1d-cb02f3e560bf",
   "metadata": {},
   "outputs": [
    {
     "data": {
      "text/plain": [
       "[-3.3665157267648675,\n",
       " -4.526516438643467,\n",
       " -5.334485434307892,\n",
       " -5.974484013468947,\n",
       " -6.513037127745122,\n",
       " -6.982602374143273,\n",
       " -7.401713480740877,\n",
       " -7.782060502352161,\n",
       " -8.131536940992538,\n",
       " -8.455751454065407,\n",
       " -8.758849007069976,\n",
       " -9.043985247844116]"
      ]
     },
     "execution_count": 25,
     "metadata": {},
     "output_type": "execute_result"
    }
   ],
   "source": [
    "W"
   ]
  },
  {
   "cell_type": "code",
   "execution_count": 26,
   "id": "c33f5db6-87b5-4d5a-9ce9-51947f0031b1",
   "metadata": {},
   "outputs": [
    {
     "data": {
      "image/png": "[encoded data removed]",
      "text/plain": [
       "<Figure size 640x480 with 1 Axes>"
      ]
     },
     "metadata": {},
     "output_type": "display_data"
    }
   ],
   "source": [
    "plt.figure()\n",
    "plt.scatter(rho_c_list, U)\n",
    "plt.ylabel(r'U/$U_0$')\n",
    "plt.xlabel(r'$\\rho_c$/$\\rho_0$')\n",
    "plt.show()"
   ]
  },
  {
   "cell_type": "code",
   "execution_count": 27,
   "id": "b2105d1c-6d90-4dcb-8e62-5a54327824e6",
   "metadata": {},
   "outputs": [
    {
     "data": {
      "image/png": "[encoded data removed]",
      "text/plain": [
       "<Figure size 640x480 with 1 Axes>"
      ]
     },
     "metadata": {},
     "output_type": "display_data"
    }
   ],
   "source": [
    "plt.figure()\n",
    "plt.scatter(rho_c_list, W)\n",
    "plt.ylabel(r'W/$W_0$')\n",
    "plt.xlabel(r'$\\rho_c$/$\\rho_0$')\n",
    "plt.show()"
   ]
  },
  {
   "cell_type": "code",
   "execution_count": null,
   "id": "844a318d-6bb0-4b67-beea-ab250cce6e3d",
   "metadata": {},
   "outputs": [],
   "source": []
  }
 ],
 "metadata": {
  "kernelspec": {
   "display_name": "Python 3 (ipykernel)",
   "language": "python",
   "name": "python3"
  },
  "language_info": {
   "codemirror_mode": {
    "name": "ipython",
    "version": 3
   },
   "file_extension": ".py",
   "mimetype": "text/x-python",
   "name": "python",
   "nbconvert_exporter": "python",
   "pygments_lexer": "ipython3",
   "version": "3.10.6"
  }
 },
 "nbformat": 4,
 "nbformat_minor": 5
}
