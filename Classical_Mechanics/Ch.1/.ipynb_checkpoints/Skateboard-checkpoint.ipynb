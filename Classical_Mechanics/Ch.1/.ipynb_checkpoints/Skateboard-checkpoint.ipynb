{
 "cells": [
  {
   "cell_type": "markdown",
   "id": "d090ae27-a875-4465-99cd-38ec2d6eb211",
   "metadata": {},
   "source": [
    "![sk1.jpg](./sk1.jpg)\n",
    "![sk2.jpg](./sk2.jpg)\n",
    "![sk3.jpg](./sk3.jpg)\n",
    "![sk4.jpg](./sk4.jpg)"
   ]
  },
  {
   "cell_type": "markdown",
   "id": "377f2064-fe92-485b-8cdc-ad78339ff7dc",
   "metadata": {},
   "source": [
    "![prob.jpg](./prob.jpg)"
   ]
  },
  {
   "cell_type": "markdown",
   "id": "7b765711-d0dc-4439-9a83-4c96235fadff",
   "metadata": {},
   "source": [
    "$$\n",
    "    \\ddot{\\phi} = - \\frac{g}{R} sin\\phi\n",
    "$$"
   ]
  },
  {
   "cell_type": "code",
   "execution_count": 1,
   "id": "793a2ac4-3c8e-4619-a21a-218acffcc3cc",
   "metadata": {},
   "outputs": [],
   "source": [
    "import numpy as np\n",
    "import math\n",
    "import matplotlib.pyplot as plt\n",
    "from scipy.integrate import solve_ivp, RK45"
   ]
  },
  {
   "cell_type": "code",
   "execution_count": 2,
   "id": "0e9c3ae4-8c5d-46fb-aa6b-b79d828c36f1",
   "metadata": {},
   "outputs": [],
   "source": [
    "#Initial conditions\n",
    "R = 5  #m\n",
    "g = 9.8 #m/s**2\n",
    "#phi_0 = math.radians(20) #radians\n",
    "phi_0 = math.radians(90) #radians\n",
    "\n",
    "#Timestep\n",
    "dt = 0.1\n",
    "#Period of the approximated model\n",
    "T = 2*np.pi*np.sqrt(R/g)\n",
    "#Time frame\n",
    "t = np.arange(0, 5*T, dt)\n",
    "\n",
    "N = t.size\n",
    "#[phi, omega].T\n",
    "y = np.zeros([N,2])\n",
    "y[0][0] = phi_0"
   ]
  },
  {
   "cell_type": "code",
   "execution_count": 3,
   "id": "56491559-de00-4453-a132-b0690cf9d8af",
   "metadata": {},
   "outputs": [
    {
     "data": {
      "text/plain": [
       "array([1.57079633, 0.        , 0.        , 0.        , 0.        ,\n",
       "       0.        , 0.        , 0.        , 0.        , 0.        ,\n",
       "       0.        , 0.        , 0.        , 0.        , 0.        ,\n",
       "       0.        , 0.        , 0.        , 0.        , 0.        ,\n",
       "       0.        , 0.        , 0.        , 0.        , 0.        ,\n",
       "       0.        , 0.        , 0.        , 0.        , 0.        ,\n",
       "       0.        , 0.        , 0.        , 0.        , 0.        ,\n",
       "       0.        , 0.        , 0.        , 0.        , 0.        ,\n",
       "       0.        , 0.        , 0.        , 0.        , 0.        ,\n",
       "       0.        , 0.        , 0.        , 0.        , 0.        ,\n",
       "       0.        , 0.        , 0.        , 0.        , 0.        ,\n",
       "       0.        , 0.        , 0.        , 0.        , 0.        ,\n",
       "       0.        , 0.        , 0.        , 0.        , 0.        ,\n",
       "       0.        , 0.        , 0.        , 0.        , 0.        ,\n",
       "       0.        , 0.        , 0.        , 0.        , 0.        ,\n",
       "       0.        , 0.        , 0.        , 0.        , 0.        ,\n",
       "       0.        , 0.        , 0.        , 0.        , 0.        ,\n",
       "       0.        , 0.        , 0.        , 0.        , 0.        ,\n",
       "       0.        , 0.        , 0.        , 0.        , 0.        ,\n",
       "       0.        , 0.        , 0.        , 0.        , 0.        ,\n",
       "       0.        , 0.        , 0.        , 0.        , 0.        ,\n",
       "       0.        , 0.        , 0.        , 0.        , 0.        ,\n",
       "       0.        , 0.        , 0.        , 0.        , 0.        ,\n",
       "       0.        , 0.        , 0.        , 0.        , 0.        ,\n",
       "       0.        , 0.        , 0.        , 0.        , 0.        ,\n",
       "       0.        , 0.        , 0.        , 0.        , 0.        ,\n",
       "       0.        , 0.        , 0.        , 0.        , 0.        ,\n",
       "       0.        , 0.        , 0.        , 0.        , 0.        ,\n",
       "       0.        , 0.        , 0.        , 0.        , 0.        ,\n",
       "       0.        , 0.        , 0.        , 0.        , 0.        ,\n",
       "       0.        , 0.        , 0.        , 0.        , 0.        ,\n",
       "       0.        , 0.        , 0.        , 0.        , 0.        ,\n",
       "       0.        , 0.        , 0.        , 0.        , 0.        ,\n",
       "       0.        , 0.        , 0.        , 0.        , 0.        ,\n",
       "       0.        , 0.        , 0.        , 0.        , 0.        ,\n",
       "       0.        , 0.        , 0.        , 0.        , 0.        ,\n",
       "       0.        , 0.        , 0.        , 0.        , 0.        ,\n",
       "       0.        , 0.        , 0.        , 0.        , 0.        ,\n",
       "       0.        , 0.        , 0.        , 0.        , 0.        ,\n",
       "       0.        , 0.        , 0.        , 0.        , 0.        ,\n",
       "       0.        , 0.        , 0.        , 0.        , 0.        ,\n",
       "       0.        , 0.        , 0.        , 0.        , 0.        ,\n",
       "       0.        , 0.        , 0.        , 0.        , 0.        ,\n",
       "       0.        , 0.        , 0.        , 0.        , 0.        ,\n",
       "       0.        , 0.        , 0.        , 0.        , 0.        ])"
      ]
     },
     "execution_count": 3,
     "metadata": {},
     "output_type": "execute_result"
    }
   ],
   "source": [
    "y.T[0]"
   ]
  },
  {
   "cell_type": "code",
   "execution_count": 4,
   "id": "01679cf4-37e1-4559-ba89-ec4a48824bba",
   "metadata": {},
   "outputs": [],
   "source": [
    "def deriv(t, y, g, R):\n",
    "    ''' Function that computes the exact derivative '''\n",
    "    phi = y.T[0]\n",
    "    omega = y.T[1]\n",
    "    return np.array([omega, -g/R * np.sin(phi)])"
   ]
  },
  {
   "cell_type": "code",
   "execution_count": 5,
   "id": "3328adff-79c3-4641-b6aa-14746d926dca",
   "metadata": {},
   "outputs": [],
   "source": [
    "def rk4(t, deriv, y, dt, **kwargs):\n",
    "    for i in range(len(t)-1):\n",
    "        k1 = deriv(t[i], y[i][:], **kwargs) * dt\n",
    "        k2 = deriv(t[i] + dt/2, y[i][:] + k1/2, **kwargs) * dt\n",
    "        k3 = deriv(t[i] + dt/2, y[i][:] + k2/2,  **kwargs) * dt\n",
    "        k4 = deriv( t[i], y[i][:] + k3, **kwargs) * dt \n",
    "        y[i+1][:] = y[i][:] + (k1 + 2*k2 + 2*k3 + k4)/6\n",
    "    #return y"
   ]
  },
  {
   "cell_type": "code",
   "execution_count": 6,
   "id": "03edc5ba-90f3-420b-9e2a-c7d2ac2c7c55",
   "metadata": {},
   "outputs": [],
   "source": [
    "rk4(t, deriv, y, dt, g = g, R = R)"
   ]
  },
  {
   "cell_type": "code",
   "execution_count": 7,
   "id": "91b3473e-dfdb-445b-b587-9d022f56d086",
   "metadata": {},
   "outputs": [
    {
     "data": {
      "text/plain": [
       "(array([ 1.57079633,  1.56099637,  1.53159837,  1.48261926,  1.4141248 ,\n",
       "         1.32628528,  1.21945136,  1.09424588,  0.95166335,  0.79316433,\n",
       "         0.6207468 ,  0.43697448,  0.24494422,  0.0481835 , -0.14951662,\n",
       "        -0.34431122, -0.53252033, -0.71082034, -0.87637966, -1.026925  ,\n",
       "        -1.16074093, -1.27661687, -1.37376152, -1.45170391, -1.51019653,\n",
       "        -1.54913102, -1.56847226, -1.56821385, -1.54835584, -1.50890499,\n",
       "        -1.44989768, -1.37144501, -1.27379922, -1.15743846, -1.02316383,\n",
       "        -0.87219822, -0.70627132, -0.52767137, -0.33924412, -0.1443246 ,\n",
       "         0.0534002 ,  0.25008395,  0.44193996,  0.62545023,  0.79753096,\n",
       "         0.95563325,  1.09777387,  1.22250564,  1.32884509,  1.41617785,\n",
       "         1.48415911,  1.53262225,  1.5615034 ,  1.57078636,  1.56046941,\n",
       "         1.53055457,  1.48105954,  1.41205202,  1.323706  ,  1.21637811,\n",
       "         1.0906997 ,  0.94767643,  0.78878226,  0.61602998,  0.43199809,\n",
       "         0.23979643,  0.04296182, -0.15471045, -0.34937706, -0.53736517,\n",
       "        -0.71536271, -0.88055228, -1.0306756 , -1.16403142, -1.27942142,\n",
       "        -1.37606404, -1.45349541, -1.51147271, -1.54989024, -1.56871415,\n",
       "        -1.56793837, -1.54756303, -1.50759528, -1.4480728 , -1.36910948,\n",
       "        -1.27096236, -1.15411684, -1.01938392, -0.86799888, -0.70170567,\n",
       "        -0.52280756, -0.3341644 , -0.13912256,  0.0586241 ,  0.25522798,\n",
       "         0.44690693,  0.63015254,  0.80189418,  0.95959774,  1.10129481,\n",
       "         1.22555149,  1.33139534,  1.41822036,  1.48568758,  1.53363395,\n",
       "         1.5619975 ,  1.57076272,  1.55992803,  1.52949562,  1.47948397,\n",
       "         1.40996276,  1.32110976,  1.21328762,  1.08713629,  0.94367266,\n",
       "         0.78438418,  0.61129847,  0.42700881,  0.23463798,  0.03773203,\n",
       "        -0.15990966, -0.35444551, -0.54220998, -0.71990264, -0.88472036,\n",
       "        -1.03441987, -1.16731409, -1.2822169 , -1.37835645, -1.45527591,\n",
       "        -1.51273706, -1.55063689, -1.56894271, -1.56764881, -1.5467554 ,\n",
       "        -1.50627004, -1.44623172, -1.36675718, -1.26810834, -1.15077793,\n",
       "        -1.01558691, -0.86378305, -0.69712462, -0.51792993, -0.32907289,\n",
       "        -0.13391115,  0.06385471,  0.26037594,  0.45187512,  0.63485355,\n",
       "         0.80625382,  0.96355673,  1.1048086 ,  1.22858883,  1.33393594,\n",
       "         1.42025227,  1.48720459,  1.53463342,  1.56247861,  1.57072535,\n",
       "         1.55937218,  1.52842146,  1.47789248,  1.40785697,  1.31849651,\n",
       "         1.21017984,  1.08355562,  0.93965204,  0.7799701 ,  0.6065523 ,\n",
       "         0.42200669,  0.22946894,  0.03249422, -0.16511414, -0.35951648,\n",
       "        -0.54705467, -0.72444006, -0.88888382, -1.03815773, -1.17058885,\n",
       "        -1.28500326, -1.3806387 , -1.45704533, -1.51398954, -1.55137089,\n",
       "        -1.56915787, -1.56734512, -1.54593289, -1.50492919, -1.44437437,\n",
       "        -1.36438805, -1.26523712, -1.14742168, -1.01177278, -0.85955072,\n",
       "        -0.69252818, -0.51303849, -0.32396963, -0.12869042,  0.06909195,\n",
       "         0.26552777,  0.45684445,  0.63955317,  0.81060981,  0.96751012,\n",
       "         1.10831516,  1.23161759,  1.33646685,  1.42227352,  1.4887101 ,\n",
       "         1.53562059,  1.56294667,  1.57067418,  1.55880178,  1.52733202,\n",
       "         1.47628502,  1.40573458,  1.31586619,  1.20705474,  1.07995766,\n",
       "         0.93561455,  0.77554001,  0.60179147,  0.41699176,  0.22428935]),\n",
       " array([ 0.        , -0.19599765, -0.39193883, -0.58754147, -0.78207453,\n",
       "        -0.97414457, -1.16151025, -1.34095633, -1.50827221, -1.6583858 ,\n",
       "        -1.78569267, -1.88458502, -1.95012612, -1.97875001, -1.96882337,\n",
       "        -1.92091792, -1.83771405, -1.72356403, -1.58383831, -1.42422013,\n",
       "        -1.25009468, -1.06612011, -0.87600196, -0.68244525, -0.48723579,\n",
       "        -0.29140156, -0.09541566,  0.10058375,  0.29656841,  0.4923942 ,\n",
       "         0.68757618,  0.88106885,  1.07106399,  1.25483077,  1.42863722,\n",
       "         1.58780227,  1.72692644,  1.84032625,  1.92264895,  1.96957856,\n",
       "         1.97848602,  1.94885815,  1.88238429,  1.78267473,  1.65469309,\n",
       "         1.50405531,  1.33635776,  1.1566531 ,  0.96912659,  0.77696695,\n",
       "         0.58239119,  0.38677272,  0.19082791, -0.00516997, -0.20116735,\n",
       "        -0.3971047 , -0.59269094, -0.78718021, -0.97915889, -1.16636123,\n",
       "        -1.3455454 , -1.51247558, -1.66206052, -1.78868809, -1.88675912,\n",
       "        -1.95136433, -1.97898251, -1.96803659, -1.91915681, -1.83507457,\n",
       "        -1.72017798, -1.57985465, -1.41978711, -1.24534596, -1.06116624,\n",
       "        -0.87092702, -0.67730757, -0.48207136, -0.28622903, -0.09024198,\n",
       "         0.10575743,  0.30174075,  0.49755774,  0.69271145,  0.8861387 ,\n",
       "         1.07600869,  1.25956473,  1.4330484 ,  1.59175586,  1.73027365,\n",
       "         1.84291849,  1.92435583,  1.97030652,  1.97819316,  1.9475613 ,\n",
       "         1.88015613,  1.77963193,  1.65097873,  1.49982013,  1.33174403,\n",
       "         1.15178343,  0.96409815,  0.77185035,  0.57723279,  0.38159895,\n",
       "         0.1856507 , -0.01034739, -0.20634448, -0.40227781, -0.59784711,\n",
       "        -0.79229154, -0.98417717, -1.17121365, -1.35013258, -1.51667294,\n",
       "        -1.66572451, -1.79166785, -1.88891292, -1.95257839, -1.97918831,\n",
       "        -1.96722209, -1.91736851, -1.83240974, -1.71676931, -1.5758515 ,\n",
       "        -1.41533772, -1.24058367, -1.05620107, -0.86584247, -0.6721614 ,\n",
       "        -0.47689909, -0.28104896, -0.08506083,  0.11093856,  0.30692045,\n",
       "         0.5027283 ,  0.69785296,  0.89121342,  1.08095617,  1.26429852,\n",
       "         1.43745566,  1.59570105,  1.73360758,  1.8454926 ,  1.92604027,\n",
       "         1.97100879,  1.97787283,  1.94623679,  1.87790156,  1.77656507,\n",
       "         1.64724331,  1.49556707,  1.32711541,  1.14690141,  0.95905934,\n",
       "         0.76672478,  0.57206629,  0.37641753,  0.180466  , -0.01553228,\n",
       "        -0.21152904, -0.40745814, -0.60300996, -0.7974085 , -0.98919934,\n",
       "        -1.17606745, -1.35471775, -1.52086413, -1.66937761, -1.79463178,\n",
       "        -1.89104623, -1.95376816, -1.97936728, -1.96637978, -1.91555298,\n",
       "        -1.82971955, -1.71333803, -1.57182891, -1.41087202, -1.23580785,\n",
       "        -1.05122464, -0.86074833, -0.66700676, -0.47171901, -0.27586136,\n",
       "        -0.07987223,  0.11612714,  0.3121075 ,  0.50790586,  0.70300068,\n",
       "         0.89629297,  1.08590633,  1.26903204,  1.44185884,  1.59963768,\n",
       "         1.73692805,  1.84804838,  1.92770209,  1.97168526,  1.97752494,\n",
       "         1.94488454,  1.87562055,  1.77347416,  1.64348686,  1.49129618,\n",
       "         1.32247195,  1.14200709,  0.95401019,  0.76159026,  0.5668917 ,\n",
       "         0.37122848,  0.17527383, -0.02072462, -0.21672103, -0.41264568,\n",
       "        -0.60817946, -0.80253104, -0.99422533, -1.1809225 , -1.35930079,\n",
       "        -1.525049  , -1.67301962, -1.79757968, -1.89315888, -1.95493346]))"
      ]
     },
     "execution_count": 7,
     "metadata": {},
     "output_type": "execute_result"
    }
   ],
   "source": [
    "y.T[0], y.T[1]"
   ]
  },
  {
   "cell_type": "code",
   "execution_count": 8,
   "id": "953bdcac-87a9-4cd7-ba66-4156581e6bb3",
   "metadata": {},
   "outputs": [],
   "source": [
    "omega_0 = np.sqrt(g/R)"
   ]
  },
  {
   "cell_type": "code",
   "execution_count": 9,
   "id": "e5b6f14d-8998-4ef3-bcaf-ccd5d8d0aaa4",
   "metadata": {},
   "outputs": [
    {
     "data": {
      "image/png": "[encoded data removed]",
      "text/plain": [
       "<Figure size 432x288 with 1 Axes>"
      ]
     },
     "metadata": {
      "needs_background": "light"
     },
     "output_type": "display_data"
    }
   ],
   "source": [
    "plt.title(f'Numerical vs Approximated result for $\\phi_0$ = {math.degrees(phi_0)}°')\n",
    "plt.plot(t, y.T[0], label = 'Numerical solution')\n",
    "plt.plot(t, phi_0*np.cos(omega_0*t), label = 'Approximated solution')\n",
    "plt.legend(loc = 3)\n",
    "plt.xlabel('Time (s)')\n",
    "plt.ylabel('$\\phi$ (rad)')\n",
    "plt.show()"
   ]
  },
  {
   "cell_type": "markdown",
   "id": "54b41850-6667-4352-8d55-b314018df678",
   "metadata": {},
   "source": [
    "After the first couple of periods the exact numerical solution parts from the approximated one. For small angles (e.g. $\\phi_0 = 20^°$) the linear approxiamation is almost exact and the trajectory is almost exactly a cosinusoidal curve, as the angles grow the trajectory is still periodic but not an exact sinusoidal curve."
   ]
  },
  {
   "cell_type": "markdown",
   "id": "9820637a-ba81-4119-bca3-d248ea5bf64f",
   "metadata": {},
   "source": [
    "For high initial angles (e.g. $\\phi_0 = 90^°$), the small angles approximation is ill-suited from the beginning and so the two trajectories depart immediately."
   ]
  },
  {
   "cell_type": "code",
   "execution_count": null,
   "id": "568eb365-dc54-4921-845e-282283d3f45f",
   "metadata": {},
   "outputs": [],
   "source": []
  }
 ],
 "metadata": {
  "kernelspec": {
   "display_name": "Python 3 (ipykernel)",
   "language": "python",
   "name": "python3"
  },
  "language_info": {
   "codemirror_mode": {
    "name": "ipython",
    "version": 3
   },
   "file_extension": ".py",
   "mimetype": "text/x-python",
   "name": "python",
   "nbconvert_exporter": "python",
   "pygments_lexer": "ipython3",
   "version": "3.11.0"
  }
 },
 "nbformat": 4,
 "nbformat_minor": 5
}
