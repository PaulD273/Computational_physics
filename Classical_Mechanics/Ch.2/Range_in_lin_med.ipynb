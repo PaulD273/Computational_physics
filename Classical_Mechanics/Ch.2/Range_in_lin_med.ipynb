{
 "cells": [
  {
   "cell_type": "markdown",
   "id": "339d3345-f267-4456-bcac-f6af5565fac3",
   "metadata": {},
   "source": [
    "# Range of the trajectory"
   ]
  },
  {
   "cell_type": "code",
   "execution_count": 1,
   "id": "3d1721f4-1643-42d7-aa45-94fd197cef2b",
   "metadata": {},
   "outputs": [],
   "source": [
    "import numpy as np\n",
    "import matplotlib.pyplot as plt\n",
    "import pandas as pd"
   ]
  },
  {
   "cell_type": "code",
   "execution_count": 2,
   "id": "a9ce949a-631d-4d5c-87be-ff4c6bcc11df",
   "metadata": {},
   "outputs": [],
   "source": [
    "from scipy.optimize import root, fsolve"
   ]
  },
  {
   "cell_type": "markdown",
   "id": "d522765f-685a-48cc-a295-a42c658ab874",
   "metadata": {},
   "source": [
    "![ex_2.22.png](./ex_2.22.jpg)"
   ]
  },
  {
   "cell_type": "markdown",
   "id": "9b1512aa-d68b-49d8-b3a4-ec5d14078754",
   "metadata": {},
   "source": [
    "Range in a linear medium:\n",
    "$$ \\frac{v_{y0} + v_{\\text{ter}}}{v_{x0}} R + v_{\\text{ter}} \\tau \\ \\text{ln} \\left ( 1 - \\frac{R}{v_{x0} \\tau} \\right) = 0 $$"
   ]
  },
  {
   "cell_type": "markdown",
   "id": "d90cfa4c-bd11-41f5-a268-db2f8a802adb",
   "metadata": {},
   "source": [
    "Range in vacuum (no drag):\n",
    "$$\n",
    "R_{\\text{vac}} = \\frac{2 v_{x0} v_{y0}}{g}\n",
    "$$"
   ]
  },
  {
   "cell_type": "code",
   "execution_count": 3,
   "id": "75dd82d5-be9a-4ffb-b0c0-cd9f459f499a",
   "metadata": {},
   "outputs": [],
   "source": [
    "v0 = 1\n",
    "g = 1\n",
    "vter = 1\n",
    "tau = 1"
   ]
  },
  {
   "cell_type": "code",
   "execution_count": 28,
   "id": "897d5e9a-ea66-4e65-abf7-9b95872d330c",
   "metadata": {},
   "outputs": [
    {
     "name": "stdout",
     "output_type": "stream",
     "text": [
      "1.0\n"
     ]
    }
   ],
   "source": [
    "# Maximum range in vacuum\n",
    "theta_vac_max = np.radians(45)\n",
    "R_vac_max = 2*v0**2*np.sin(theta_vac_max)*np.cos(theta_vac_max)/g\n",
    "print(R_vac_max)"
   ]
  },
  {
   "cell_type": "code",
   "execution_count": 5,
   "id": "dd48270a-7ffd-49a0-bb6f-456e9c73bd29",
   "metadata": {},
   "outputs": [],
   "source": [
    "def Range(x, theta, v0, g, vter, tau):\n",
    "    '''Non linear equation for the Range in a linear medium'''\n",
    "    vx0 = v0*np.cos(theta)\n",
    "    vy0 = v0*np.sin(theta)\n",
    "    return (vy0 + vter)/vx0*x + vter*tau*np.log(1-x/(vx0*tau))"
   ]
  },
  {
   "cell_type": "code",
   "execution_count": 6,
   "id": "62436a50-62f8-4590-84ea-94e6c253e259",
   "metadata": {},
   "outputs": [],
   "source": [
    "Range_wr = lambda x: Range(x, theta_vac_max, v0, g, vter, tau)"
   ]
  },
  {
   "cell_type": "code",
   "execution_count": 7,
   "id": "25735f87-3e51-4797-865d-2c34e8a6cbbd",
   "metadata": {},
   "outputs": [],
   "source": [
    "solution = fsolve(Range_wr, x0 = 0.4)"
   ]
  },
  {
   "cell_type": "code",
   "execution_count": 8,
   "id": "e8705ec8-7043-4374-b049-aeb4688a6be2",
   "metadata": {},
   "outputs": [
    {
     "data": {
      "text/plain": [
       "0.4909863592674413"
      ]
     },
     "execution_count": 8,
     "metadata": {},
     "output_type": "execute_result"
    }
   ],
   "source": [
    "solution[0]"
   ]
  },
  {
   "cell_type": "code",
   "execution_count": 27,
   "id": "a332c3e8-5519-42d4-8715-9314b03d727c",
   "metadata": {},
   "outputs": [
    {
     "data": {
      "image/png": "[encoded data removed]",
      "text/plain": [
       "<Figure size 432x288 with 1 Axes>"
      ]
     },
     "metadata": {
      "needs_background": "light"
     },
     "output_type": "display_data"
    }
   ],
   "source": [
    "R = []\n",
    "s = np.arange(0,0.6, 0.003)\n",
    "for x in s:\n",
    "    #print(z)\n",
    "    y = Range_wr(x)\n",
    "    plt.scatter(x, y, color = 'b', s = 15)\n",
    "    if (y<0.001 and y>-0.003):\n",
    "        R.append(x)\n",
    "plt.axhline(y = 0, linestyle = '--')\n",
    "plt.xlabel('x')\n",
    "plt.ylabel('y')\n",
    "plt.title(r'Range in linear medium:  $y = \\frac{v_{y0} + v_{\\mathrm{ter}}}{v_{x0}} x + v_{\\mathrm{ter}} \\tau \\ \\mathrm{ln} \\left ( 1 - \\frac{x}{v_{x0} \\tau} \\right)$',\n",
    "         fontsize = 16)\n",
    "plt.show()"
   ]
  },
  {
   "cell_type": "code",
   "execution_count": 10,
   "id": "40a0c2ed-6888-45bc-8a39-525bdd85768e",
   "metadata": {},
   "outputs": [
    {
     "name": "stdout",
     "output_type": "stream",
     "text": [
      "[0.0, 0.492]\n"
     ]
    }
   ],
   "source": [
    "# Value of the range for an initial angle of 45°\n",
    "print(R)"
   ]
  },
  {
   "cell_type": "code",
   "execution_count": 11,
   "id": "8f6f263c-affc-4b5f-822f-05a96a3344f8",
   "metadata": {},
   "outputs": [],
   "source": [
    "theta_range = np.arange(0.4,0.9, 0.1)\n",
    "solution_theta = []\n",
    "for theta in theta_range:\n",
    "    Range_wr = lambda x: Range(x, theta, v0, g, vter, tau)\n",
    "    solution = fsolve(Range_wr, x0 = 0.4)\n",
    "    solution_theta.append(solution[0])"
   ]
  },
  {
   "cell_type": "code",
   "execution_count": 12,
   "id": "5c0881be-ef65-4904-98bf-41785fdb88a5",
   "metadata": {},
   "outputs": [
    {
     "data": {
      "text/html": [
       "<div>\n",
       "<style scoped>\n",
       "    .dataframe tbody tr th:only-of-type {\n",
       "        vertical-align: middle;\n",
       "    }\n",
       "\n",
       "    .dataframe tbody tr th {\n",
       "        vertical-align: top;\n",
       "    }\n",
       "\n",
       "    .dataframe thead th {\n",
       "        text-align: right;\n",
       "    }\n",
       "</style>\n",
       "<table border=\"1\" class=\"dataframe\">\n",
       "  <thead>\n",
       "    <tr style=\"text-align: right;\">\n",
       "      <th></th>\n",
       "      <th>theta</th>\n",
       "      <th>solution</th>\n",
       "    </tr>\n",
       "  </thead>\n",
       "  <tbody>\n",
       "    <tr>\n",
       "      <th>0</th>\n",
       "      <td>0.4</td>\n",
       "      <td>0.462867</td>\n",
       "    </tr>\n",
       "    <tr>\n",
       "      <th>1</th>\n",
       "      <td>0.5</td>\n",
       "      <td>0.499497</td>\n",
       "    </tr>\n",
       "    <tr>\n",
       "      <th>2</th>\n",
       "      <td>0.6</td>\n",
       "      <td>0.513623</td>\n",
       "    </tr>\n",
       "    <tr>\n",
       "      <th>3</th>\n",
       "      <td>0.7</td>\n",
       "      <td>0.508495</td>\n",
       "    </tr>\n",
       "    <tr>\n",
       "      <th>4</th>\n",
       "      <td>0.8</td>\n",
       "      <td>0.486905</td>\n",
       "    </tr>\n",
       "  </tbody>\n",
       "</table>\n",
       "</div>"
      ],
      "text/plain": [
       "   theta  solution\n",
       "0    0.4  0.462867\n",
       "1    0.5  0.499497\n",
       "2    0.6  0.513623\n",
       "3    0.7  0.508495\n",
       "4    0.8  0.486905"
      ]
     },
     "execution_count": 12,
     "metadata": {},
     "output_type": "execute_result"
    }
   ],
   "source": [
    "solutions_df = pd.DataFrame({\n",
    "    'theta': theta_range,\n",
    "    'solution': solution_theta})\n",
    "solutions_df"
   ]
  },
  {
   "cell_type": "markdown",
   "id": "72e7f1fc-1a92-4ff1-9e6d-e20d5c4b17f2",
   "metadata": {},
   "source": [
    "The maximum should lie between theta = 0.5 and theta = 0.7, we thus shorten our range:"
   ]
  },
  {
   "cell_type": "code",
   "execution_count": 13,
   "id": "2c1fad82-48ec-4146-adab-636aa493c9f0",
   "metadata": {},
   "outputs": [],
   "source": [
    "theta_range2 = np.arange(0.5,0.7, 0.01)\n",
    "solution_theta2 = []\n",
    "for theta in theta_range2:\n",
    "    Range_wr = lambda x: Range(x, theta, v0, g, vter, tau)\n",
    "    solution = fsolve(Range_wr, x0 = 0.4)\n",
    "    solution_theta2.append(solution[0])"
   ]
  },
  {
   "cell_type": "code",
   "execution_count": 14,
   "id": "32a37abb-f729-41d5-a227-c2ee72a00c31",
   "metadata": {},
   "outputs": [
    {
     "data": {
      "text/html": [
       "<div>\n",
       "<style scoped>\n",
       "    .dataframe tbody tr th:only-of-type {\n",
       "        vertical-align: middle;\n",
       "    }\n",
       "\n",
       "    .dataframe tbody tr th {\n",
       "        vertical-align: top;\n",
       "    }\n",
       "\n",
       "    .dataframe thead th {\n",
       "        text-align: right;\n",
       "    }\n",
       "</style>\n",
       "<table border=\"1\" class=\"dataframe\">\n",
       "  <thead>\n",
       "    <tr style=\"text-align: right;\">\n",
       "      <th></th>\n",
       "      <th>theta</th>\n",
       "      <th>solution</th>\n",
       "    </tr>\n",
       "  </thead>\n",
       "  <tbody>\n",
       "    <tr>\n",
       "      <th>0</th>\n",
       "      <td>0.50</td>\n",
       "      <td>0.499497</td>\n",
       "    </tr>\n",
       "    <tr>\n",
       "      <th>1</th>\n",
       "      <td>0.51</td>\n",
       "      <td>0.501864</td>\n",
       "    </tr>\n",
       "    <tr>\n",
       "      <th>2</th>\n",
       "      <td>0.52</td>\n",
       "      <td>0.504011</td>\n",
       "    </tr>\n",
       "    <tr>\n",
       "      <th>3</th>\n",
       "      <td>0.53</td>\n",
       "      <td>0.505939</td>\n",
       "    </tr>\n",
       "    <tr>\n",
       "      <th>4</th>\n",
       "      <td>0.54</td>\n",
       "      <td>0.507654</td>\n",
       "    </tr>\n",
       "    <tr>\n",
       "      <th>5</th>\n",
       "      <td>0.55</td>\n",
       "      <td>0.509158</td>\n",
       "    </tr>\n",
       "    <tr>\n",
       "      <th>6</th>\n",
       "      <td>0.56</td>\n",
       "      <td>0.510453</td>\n",
       "    </tr>\n",
       "    <tr>\n",
       "      <th>7</th>\n",
       "      <td>0.57</td>\n",
       "      <td>0.511545</td>\n",
       "    </tr>\n",
       "    <tr>\n",
       "      <th>8</th>\n",
       "      <td>0.58</td>\n",
       "      <td>0.512435</td>\n",
       "    </tr>\n",
       "    <tr>\n",
       "      <th>9</th>\n",
       "      <td>0.59</td>\n",
       "      <td>0.513127</td>\n",
       "    </tr>\n",
       "    <tr>\n",
       "      <th>10</th>\n",
       "      <td>0.60</td>\n",
       "      <td>0.513623</td>\n",
       "    </tr>\n",
       "    <tr>\n",
       "      <th>11</th>\n",
       "      <td>0.61</td>\n",
       "      <td>0.513927</td>\n",
       "    </tr>\n",
       "    <tr>\n",
       "      <th>12</th>\n",
       "      <td>0.62</td>\n",
       "      <td>0.514043</td>\n",
       "    </tr>\n",
       "    <tr>\n",
       "      <th>13</th>\n",
       "      <td>0.63</td>\n",
       "      <td>0.513972</td>\n",
       "    </tr>\n",
       "    <tr>\n",
       "      <th>14</th>\n",
       "      <td>0.64</td>\n",
       "      <td>0.513717</td>\n",
       "    </tr>\n",
       "    <tr>\n",
       "      <th>15</th>\n",
       "      <td>0.65</td>\n",
       "      <td>0.513282</td>\n",
       "    </tr>\n",
       "    <tr>\n",
       "      <th>16</th>\n",
       "      <td>0.66</td>\n",
       "      <td>0.512669</td>\n",
       "    </tr>\n",
       "    <tr>\n",
       "      <th>17</th>\n",
       "      <td>0.67</td>\n",
       "      <td>0.511881</td>\n",
       "    </tr>\n",
       "    <tr>\n",
       "      <th>18</th>\n",
       "      <td>0.68</td>\n",
       "      <td>0.510921</td>\n",
       "    </tr>\n",
       "    <tr>\n",
       "      <th>19</th>\n",
       "      <td>0.69</td>\n",
       "      <td>0.509791</td>\n",
       "    </tr>\n",
       "  </tbody>\n",
       "</table>\n",
       "</div>"
      ],
      "text/plain": [
       "    theta  solution\n",
       "0    0.50  0.499497\n",
       "1    0.51  0.501864\n",
       "2    0.52  0.504011\n",
       "3    0.53  0.505939\n",
       "4    0.54  0.507654\n",
       "5    0.55  0.509158\n",
       "6    0.56  0.510453\n",
       "7    0.57  0.511545\n",
       "8    0.58  0.512435\n",
       "9    0.59  0.513127\n",
       "10   0.60  0.513623\n",
       "11   0.61  0.513927\n",
       "12   0.62  0.514043\n",
       "13   0.63  0.513972\n",
       "14   0.64  0.513717\n",
       "15   0.65  0.513282\n",
       "16   0.66  0.512669\n",
       "17   0.67  0.511881\n",
       "18   0.68  0.510921\n",
       "19   0.69  0.509791"
      ]
     },
     "execution_count": 14,
     "metadata": {},
     "output_type": "execute_result"
    }
   ],
   "source": [
    "solutions_df2 = pd.DataFrame({\n",
    "    'theta': theta_range2,\n",
    "    'solution': solution_theta2})\n",
    "solutions_df2"
   ]
  },
  {
   "cell_type": "code",
   "execution_count": 29,
   "id": "66973654-62c3-42c9-831a-eb5fcfbc5659",
   "metadata": {},
   "outputs": [
    {
     "data": {
      "text/plain": [
       "(0.6200000000000001, 35.52338329811105)"
      ]
     },
     "execution_count": 29,
     "metadata": {},
     "output_type": "execute_result"
    }
   ],
   "source": [
    "# Angle corresponding to the maximum range in a linear medium\n",
    "theta_range2[np.argmax(solution_theta2)], np.degrees(theta_range2[np.argmax(solution_theta2)])"
   ]
  },
  {
   "cell_type": "markdown",
   "id": "58a534d8-38ac-4a5f-96e5-20a994b0e5a1",
   "metadata": {},
   "source": [
    "The angle to attain the maximum range, given the initial conditions, is roughly $35.5°$, smaller than its vacuum anlogue $45°$. A shallower angle reduces flight time but it also reduces the time the object spends in air and thus the total drag."
   ]
  },
  {
   "cell_type": "code",
   "execution_count": 16,
   "id": "28865959-8616-473d-8bde-be655a8d8dca",
   "metadata": {},
   "outputs": [],
   "source": [
    "def x_traj(t, v0, theta, tau, **kwargs):\n",
    "    return v0*np.cos(theta)*tau*(1 - np.exp(-t/tau))"
   ]
  },
  {
   "cell_type": "code",
   "execution_count": 17,
   "id": "80a11002-2d35-47e2-b9d5-b165b33e47df",
   "metadata": {},
   "outputs": [],
   "source": [
    "def y_traj(t, v0, theta, tau, vter, **kwargs):\n",
    "    return (v0*np.sin(theta) + vter)*tau*(1 - np.exp(-t/tau)) - vter*t"
   ]
  },
  {
   "cell_type": "code",
   "execution_count": 35,
   "id": "db223fcc-21d1-440d-af4e-42ce94c27227",
   "metadata": {},
   "outputs": [
    {
     "data": {
      "image/png": "[encoded data removed]",
      "text/plain": [
       "<Figure size 432x288 with 1 Axes>"
      ]
     },
     "metadata": {
      "needs_background": "light"
     },
     "output_type": "display_data"
    }
   ],
   "source": [
    "t = np.arange(0,1,0.001)\n",
    "for theta in [0.60, 0.61, 0.62, 0.63, 0.64]:\n",
    "    x = x_traj(t = t, theta=theta, v0 = v0, tau=tau)\n",
    "    y = y_traj(t=t, theta=theta, v0=v0, tau=tau, vter=vter)\n",
    "    plt.plot(x,y, label = f'{round(theta,2)}')\n",
    "plt.xlabel('x(t)')\n",
    "plt.ylabel('y(t)')\n",
    "plt.title(r'Range in linear medium for different initial angles',\n",
    "         fontsize = 16)\n",
    "plt.legend(title = 'Intial angles')\n",
    "plt.show()"
   ]
  },
  {
   "cell_type": "code",
   "execution_count": null,
   "id": "4fddac38-d03f-41df-97bc-22908b9a5f66",
   "metadata": {},
   "outputs": [],
   "source": []
  }
 ],
 "metadata": {
  "kernelspec": {
   "display_name": "Python 3 (ipykernel)",
   "language": "python",
   "name": "python3"
  },
  "language_info": {
   "codemirror_mode": {
    "name": "ipython",
    "version": 3
   },
   "file_extension": ".py",
   "mimetype": "text/x-python",
   "name": "python",
   "nbconvert_exporter": "python",
   "pygments_lexer": "ipython3",
   "version": "3.11.0"
  }
 },
 "nbformat": 4,
 "nbformat_minor": 5
}
